{
  "nbformat": 4,
  "nbformat_minor": 0,
  "metadata": {
    "colab": {
      "name": "stemming and lemmatization using NLTK.ipynb",
      "provenance": [],
      "authorship_tag": "ABX9TyPc2CHzRfsJM/QxPZ9oaPxD",
      "include_colab_link": true
    },
    "kernelspec": {
      "name": "python3",
      "display_name": "Python 3"
    },
    "language_info": {
      "name": "python"
    }
  },
  "cells": [
    {
      "cell_type": "markdown",
      "metadata": {
        "id": "view-in-github",
        "colab_type": "text"
      },
      "source": [
        "<a href=\"https://colab.research.google.com/github/ZahraArshia/Stemming-Lemmatization/blob/main/stemming_and_lemmatization_using_NLTK.ipynb\" target=\"_parent\"><img src=\"https://colab.research.google.com/assets/colab-badge.svg\" alt=\"Open In Colab\"/></a>"
      ]
    },
    {
      "cell_type": "markdown",
      "source": [
        "**Stemming:**"
      ],
      "metadata": {
        "id": "UyYvI6h_Uorx"
      }
    },
    {
      "cell_type": "code",
      "source": [
        "import nltk\n",
        "nltk.download('punkt')"
      ],
      "metadata": {
        "id": "Ovdmk713V5MO"
      },
      "execution_count": null,
      "outputs": []
    },
    {
      "cell_type": "code",
      "source": [
        "from nltk.stem import PorterStemmer\n",
        "ps = PorterStemmer()\n",
        "ps.stem('waiting')"
      ],
      "metadata": {
        "colab": {
          "base_uri": "https://localhost:8080/",
          "height": 35
        },
        "id": "Bm6-gWljVBKW",
        "outputId": "1bea6ee0-b0e1-422a-9c96-8436b77d863a"
      },
      "execution_count": 9,
      "outputs": [
        {
          "output_type": "execute_result",
          "data": {
            "text/plain": [
              "'wait'"
            ],
            "application/vnd.google.colaboratory.intrinsic+json": {
              "type": "string"
            }
          },
          "metadata": {},
          "execution_count": 9
        }
      ]
    },
    {
      "cell_type": "code",
      "source": [
        "from nltk.stem import PorterStemmer\n",
        "from nltk.tokenize import sent_tokenize, word_tokenize\n",
        "sentence=\"User interface is the process of shifting from chaotic complexity to elegant simplicity.\"\n",
        "words = word_tokenize(sentence)\n",
        "ps = PorterStemmer()\n",
        "for w in words:\n",
        "\trootWord = ps.stem(w)\n",
        "\tprint(rootWord)"
      ],
      "metadata": {
        "colab": {
          "base_uri": "https://localhost:8080/"
        },
        "id": "JmmCGtzCVYzu",
        "outputId": "75bcd636-a806-403c-d6ab-e01287700702"
      },
      "execution_count": 10,
      "outputs": [
        {
          "output_type": "stream",
          "name": "stdout",
          "text": [
            "user\n",
            "interfac\n",
            "is\n",
            "the\n",
            "process\n",
            "of\n",
            "shift\n",
            "from\n",
            "chaotic\n",
            "complex\n",
            "to\n",
            "eleg\n",
            "simplic\n",
            ".\n"
          ]
        }
      ]
    },
    {
      "cell_type": "markdown",
      "source": [
        "**Lemmatization:** "
      ],
      "metadata": {
        "id": "96le1e63WJ8k"
      }
    },
    {
      "cell_type": "code",
      "source": [
        "import nltk\n",
        "nltk.download('punkt')\n",
        "nltk.download('wordnet')"
      ],
      "metadata": {
        "id": "TIJtjrEVXBR-"
      },
      "execution_count": null,
      "outputs": []
    },
    {
      "cell_type": "code",
      "source": [
        "from nltk.stem import \tWordNetLemmatizer\n",
        "wordnet_lemmatizer = WordNetLemmatizer()\n",
        "wordnet_lemmatizer.lemmatize('waiting')"
      ],
      "metadata": {
        "colab": {
          "base_uri": "https://localhost:8080/",
          "height": 35
        },
        "id": "TW78iakGWMZk",
        "outputId": "f8f9447b-7c6c-4952-9d5c-54c2c2cf4e6f"
      },
      "execution_count": 17,
      "outputs": [
        {
          "output_type": "execute_result",
          "data": {
            "text/plain": [
              "'waiting'"
            ],
            "application/vnd.google.colaboratory.intrinsic+json": {
              "type": "string"
            }
          },
          "metadata": {},
          "execution_count": 17
        }
      ]
    },
    {
      "cell_type": "code",
      "source": [
        "from nltk.tokenize import sent_tokenize, word_tokenize\n",
        "sentence=\"User interface is the process of shifting from chaotic complexity to elegant simplicity.\"\n",
        "words = word_tokenize(sentence)\n",
        "wordnet_lemmatizer = WordNetLemmatizer()\n",
        "for w in words:\n",
        "\trootWord = wordnet_lemmatizer.lemmatize(w)\n",
        "\tprint(rootWord)"
      ],
      "metadata": {
        "colab": {
          "base_uri": "https://localhost:8080/"
        },
        "id": "ENSFkU-_Xj_9",
        "outputId": "a568c7c9-ac0f-43b5-d8c9-7bac8455db69"
      },
      "execution_count": 18,
      "outputs": [
        {
          "output_type": "stream",
          "name": "stdout",
          "text": [
            "User\n",
            "interface\n",
            "is\n",
            "the\n",
            "process\n",
            "of\n",
            "shifting\n",
            "from\n",
            "chaotic\n",
            "complexity\n",
            "to\n",
            "elegant\n",
            "simplicity\n",
            ".\n"
          ]
        }
      ]
    }
  ]
}